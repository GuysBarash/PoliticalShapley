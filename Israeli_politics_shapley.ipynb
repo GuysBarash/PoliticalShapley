{
  "nbformat": 4,
  "nbformat_minor": 0,
  "metadata": {
    "colab": {
      "name": "Israeli politics shapley.ipynb",
      "provenance": [],
      "authorship_tag": "ABX9TyNcKBXymEbUv+39ny0hoX4w",
      "include_colab_link": true
    },
    "kernelspec": {
      "name": "python3",
      "display_name": "Python 3"
    }
  },
  "cells": [
    {
      "cell_type": "markdown",
      "metadata": {
        "id": "view-in-github",
        "colab_type": "text"
      },
      "source": [
        "<a href=\"https://colab.research.google.com/github/GuysBarash/PoliticalShapley/blob/main/Israeli_politics_shapley.ipynb\" target=\"_parent\"><img src=\"https://colab.research.google.com/assets/colab-badge.svg\" alt=\"Open In Colab\"/></a>"
      ]
    },
    {
      "cell_type": "markdown",
      "metadata": {
        "id": "lCg_F9Oj6nLw"
      },
      "source": [
        "# Data"
      ]
    },
    {
      "cell_type": "markdown",
      "metadata": {
        "id": "33gaf5TB6p13"
      },
      "source": [
        "Mandats per party"
      ]
    },
    {
      "cell_type": "code",
      "metadata": {
        "id": "BEQVz6gDlOB4"
      },
      "source": [
        "prty = dict()\r\n",
        "prty['likud'] = 29\r\n",
        "prty['new_hope'] = 14\r\n",
        "prty['yamina'] = 13\r\n",
        "prty['yesh_atid'] = 18\r\n",
        "prty['meshutefet'] = 9\r\n",
        "prty['shas'] = 8\r\n",
        "prty['yahadut_ha_tora'] = 7\r\n",
        "prty['israel_beitenu'] = 6\r\n",
        "prty['tzionot_datit'] = 5\r\n",
        "# prty['meretz'] = 0\r\n",
        "prty['avoda'] = 7\r\n",
        "prty['kahol_lavan'] = 4"
      ],
      "execution_count": 30,
      "outputs": []
    },
    {
      "cell_type": "markdown",
      "metadata": {
        "id": "C0Hs5pHT6tKH"
      },
      "source": [
        "Who won't sit with who (order doesnt matter)"
      ]
    },
    {
      "cell_type": "code",
      "metadata": {
        "id": "Tm2qe-rH6tSY"
      },
      "source": [
        "disagree = dict()\r\n",
        "disagree['likud'] = ['new_hope', 'kahol_lavan', 'israel_beitenu', 'yesh_atid', 'avoda']\r\n",
        "disagree['meshutefet'] = ['likud', 'tzionot_datit', 'yamina']\r\n",
        "disagree['yesh_atid'] = ['shas', 'yahadut_ha_tora']"
      ],
      "execution_count": 31,
      "outputs": []
    },
    {
      "cell_type": "markdown",
      "metadata": {
        "id": "UfmeMq8s6kOC"
      },
      "source": [
        "# Code"
      ]
    },
    {
      "cell_type": "code",
      "metadata": {
        "colab": {
          "base_uri": "https://localhost:8080/"
        },
        "id": "dxQzNmOzkzXX",
        "outputId": "8ec85cb9-f032-47e4-e7f5-8bcc6b2bcd81"
      },
      "source": [
        "!git clone https://github.com/GuysBarash/PoliticalShapley.git"
      ],
      "execution_count": 32,
      "outputs": [
        {
          "output_type": "stream",
          "text": [
            "fatal: destination path 'PoliticalShapley' already exists and is not an empty directory.\n"
          ],
          "name": "stdout"
        }
      ]
    },
    {
      "cell_type": "code",
      "metadata": {
        "id": "8zOOSxKile2y"
      },
      "source": [
        "from PoliticalShapley.PoliticalShapley import PoliticalShapley\r\n",
        "from IPython.display import display\r\n",
        "import pandas as pd\r\n",
        "import matplotlib.pyplot as plt\r\n",
        "#include if using a jupyter notebook, remove if using a .py file\r\n",
        "%matplotlib inline "
      ],
      "execution_count": 33,
      "outputs": []
    },
    {
      "cell_type": "code",
      "metadata": {
        "id": "S30k67BClUdi"
      },
      "source": [
        "shap = PoliticalShapley()\r\n",
        "shap.add_parties(prty)\r\n",
        "shap.add_restrictions(disagree)\r\n",
        "shap.run()"
      ],
      "execution_count": 34,
      "outputs": []
    },
    {
      "cell_type": "markdown",
      "metadata": {
        "id": "P1FEQudx3zY2"
      },
      "source": [
        "# possible coalitions"
      ]
    },
    {
      "cell_type": "code",
      "metadata": {
        "colab": {
          "base_uri": "https://localhost:8080/",
          "height": 227
        },
        "id": "nq9b6TVTnJ1m",
        "outputId": "f213c5e2-b7a4-42db-81fa-6a523c2d10cf"
      },
      "source": [
        "df = shap.get_possible_govt()\r\n",
        "display(df)"
      ],
      "execution_count": 35,
      "outputs": [
        {
          "output_type": "display_data",
          "data": {
            "text/html": [
              "<div>\n",
              "<style scoped>\n",
              "    .dataframe tbody tr th:only-of-type {\n",
              "        vertical-align: middle;\n",
              "    }\n",
              "\n",
              "    .dataframe tbody tr th {\n",
              "        vertical-align: top;\n",
              "    }\n",
              "\n",
              "    .dataframe thead th {\n",
              "        text-align: right;\n",
              "    }\n",
              "</style>\n",
              "<table border=\"1\" class=\"dataframe\">\n",
              "  <thead>\n",
              "    <tr style=\"text-align: right;\">\n",
              "      <th></th>\n",
              "      <th>likud</th>\n",
              "      <th>new_hope</th>\n",
              "      <th>yamina</th>\n",
              "      <th>yesh_atid</th>\n",
              "      <th>meshutefet</th>\n",
              "      <th>shas</th>\n",
              "      <th>yahadut_ha_tora</th>\n",
              "      <th>israel_beitenu</th>\n",
              "      <th>tzionot_datit</th>\n",
              "      <th>avoda</th>\n",
              "      <th>kahol_lavan</th>\n",
              "      <th>Total</th>\n",
              "    </tr>\n",
              "  </thead>\n",
              "  <tbody>\n",
              "    <tr>\n",
              "      <th>0</th>\n",
              "      <td>0</td>\n",
              "      <td>14</td>\n",
              "      <td>13</td>\n",
              "      <td>0</td>\n",
              "      <td>0</td>\n",
              "      <td>8</td>\n",
              "      <td>7</td>\n",
              "      <td>6</td>\n",
              "      <td>5</td>\n",
              "      <td>7</td>\n",
              "      <td>4</td>\n",
              "      <td>64</td>\n",
              "    </tr>\n",
              "    <tr>\n",
              "      <th>1</th>\n",
              "      <td>0</td>\n",
              "      <td>14</td>\n",
              "      <td>13</td>\n",
              "      <td>18</td>\n",
              "      <td>0</td>\n",
              "      <td>0</td>\n",
              "      <td>0</td>\n",
              "      <td>0</td>\n",
              "      <td>5</td>\n",
              "      <td>7</td>\n",
              "      <td>4</td>\n",
              "      <td>61</td>\n",
              "    </tr>\n",
              "    <tr>\n",
              "      <th>2</th>\n",
              "      <td>0</td>\n",
              "      <td>14</td>\n",
              "      <td>13</td>\n",
              "      <td>18</td>\n",
              "      <td>0</td>\n",
              "      <td>0</td>\n",
              "      <td>0</td>\n",
              "      <td>6</td>\n",
              "      <td>0</td>\n",
              "      <td>7</td>\n",
              "      <td>4</td>\n",
              "      <td>62</td>\n",
              "    </tr>\n",
              "    <tr>\n",
              "      <th>3</th>\n",
              "      <td>0</td>\n",
              "      <td>14</td>\n",
              "      <td>13</td>\n",
              "      <td>18</td>\n",
              "      <td>0</td>\n",
              "      <td>0</td>\n",
              "      <td>0</td>\n",
              "      <td>6</td>\n",
              "      <td>5</td>\n",
              "      <td>7</td>\n",
              "      <td>0</td>\n",
              "      <td>63</td>\n",
              "    </tr>\n",
              "    <tr>\n",
              "      <th>4</th>\n",
              "      <td>0</td>\n",
              "      <td>14</td>\n",
              "      <td>13</td>\n",
              "      <td>18</td>\n",
              "      <td>0</td>\n",
              "      <td>0</td>\n",
              "      <td>0</td>\n",
              "      <td>6</td>\n",
              "      <td>5</td>\n",
              "      <td>7</td>\n",
              "      <td>4</td>\n",
              "      <td>67</td>\n",
              "    </tr>\n",
              "    <tr>\n",
              "      <th>5</th>\n",
              "      <td>29</td>\n",
              "      <td>0</td>\n",
              "      <td>13</td>\n",
              "      <td>0</td>\n",
              "      <td>0</td>\n",
              "      <td>8</td>\n",
              "      <td>7</td>\n",
              "      <td>0</td>\n",
              "      <td>5</td>\n",
              "      <td>0</td>\n",
              "      <td>0</td>\n",
              "      <td>62</td>\n",
              "    </tr>\n",
              "  </tbody>\n",
              "</table>\n",
              "</div>"
            ],
            "text/plain": [
              "   likud  new_hope  yamina  yesh_atid  ...  tzionot_datit  avoda  kahol_lavan  Total\n",
              "0      0        14      13          0  ...              5      7            4     64\n",
              "1      0        14      13         18  ...              5      7            4     61\n",
              "2      0        14      13         18  ...              0      7            4     62\n",
              "3      0        14      13         18  ...              5      7            0     63\n",
              "4      0        14      13         18  ...              5      7            4     67\n",
              "5     29         0      13          0  ...              5      0            0     62\n",
              "\n",
              "[6 rows x 12 columns]"
            ]
          },
          "metadata": {
            "tags": []
          }
        }
      ]
    },
    {
      "cell_type": "markdown",
      "metadata": {
        "id": "cLqvUh_l6ZNd"
      },
      "source": [
        "# Shapley power"
      ]
    },
    {
      "cell_type": "code",
      "metadata": {
        "colab": {
          "base_uri": "https://localhost:8080/",
          "height": 466
        },
        "id": "GMMlleqh6PIl",
        "outputId": "726c42c6-c63c-4fe7-8b62-b131b7d03a29"
      },
      "source": [
        "df = shap.get_shapley()\r\n",
        "df = df/df.sum()\r\n",
        "display(df)\r\n",
        "\r\n",
        "fig, ax = plt.subplots()\r\n",
        "ax.pie(df.values, labels=df.index, autopct='%1.1f%%')\r\n",
        "ax.axis('equal')  # Equal aspect ratio ensures the pie chart is circular.\r\n",
        "ax.set_title('Engineering Diciplines')\r\n",
        "plt.show()"
      ],
      "execution_count": 38,
      "outputs": [
        {
          "output_type": "display_data",
          "data": {
            "text/plain": [
              "yamina             0.164474\n",
              "avoda              0.138158\n",
              "new_hope           0.138158\n",
              "tzionot_datit      0.116228\n",
              "yesh_atid          0.092105\n",
              "kahol_lavan        0.089912\n",
              "israel_beitenu     0.089912\n",
              "yahadut_ha_tora    0.072368\n",
              "shas               0.072368\n",
              "likud              0.026316\n",
              "meshutefet         0.000000\n",
              "dtype: float64"
            ]
          },
          "metadata": {
            "tags": []
          }
        },
        {
          "output_type": "display_data",
          "data": {
            "image/png": "[encoded data removed]",
            "text/plain": [
              "<Figure size 432x288 with 1 Axes>"
            ]
          },
          "metadata": {
            "tags": []
          }
        }
      ]
    }
  ]
}