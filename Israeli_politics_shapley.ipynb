{
 "cells": [
  {
   "cell_type": "markdown",
   "metadata": {
    "id": "view-in-github",
    "colab_type": "text"
   },
   "source": [
    "<a href=\"https://colab.research.google.com/github/GuysBarash/PoliticalShapley/blob/main/Israeli_politics_shapley.ipynb\" target=\"_parent\"><img src=\"https://colab.research.google.com/assets/colab-badge.svg\" alt=\"Open In Colab\"/></a>"
   ]
  },
  {
   "cell_type": "markdown",
   "metadata": {
    "id": "lCg_F9Oj6nLw"
   },
   "source": [
    "# Data"
   ]
  },
  {
   "cell_type": "markdown",
   "metadata": {
    "id": "33gaf5TB6p13"
   },
   "source": [
    "Mandats per party"
   ]
  },
  {
   "cell_type": "code",
   "execution_count": 30,
   "metadata": {
    "id": "BEQVz6gDlOB4"
   },
   "outputs": [],
   "source": [
    "prty = dict()\r\n",
    "prty['likud'] = 29\r\n",
    "prty['new_hope'] = 14\r\n",
    "prty['yamina'] = 13\r\n",
    "prty['yesh_atid'] = 18\r\n",
    "prty['meshutefet'] = 9\r\n",
    "prty['shas'] = 8\r\n",
    "prty['yahadut_ha_tora'] = 7\r\n",
    "prty['israel_beitenu'] = 6\r\n",
    "prty['tzionot_datit'] = 5\r\n",
    "# prty['meretz'] = 0\n",
    "\r\n",
    "prty['avoda'] = 7\r\n",
    "prty['kahol_lavan'] = 4\n"
   ]
  },
  {
   "cell_type": "markdown",
   "metadata": {
    "id": "C0Hs5pHT6tKH"
   },
   "source": [
    "Who won't sit with who (order doesnt matter)"
   ]
  },
  {
   "cell_type": "code",
   "execution_count": 31,
   "metadata": {
    "id": "Tm2qe-rH6tSY"
   },
   "outputs": [],
   "source": [
    "disagree = dict()\r\n",
    "disagree['likud'] = ['new_hope', 'kahol_lavan', 'israel_beitenu', 'yesh_atid', 'avoda']\r\n",
    "disagree['meshutefet'] = ['likud', 'tzionot_datit', 'yamina']\r\n",
    "disagree['yesh_atid'] = ['shas', 'yahadut_ha_tora']\n"
   ]
  },
  {
   "cell_type": "markdown",
   "metadata": {
    "id": "UfmeMq8s6kOC"
   },
   "source": [
    "# Code"
   ]
  },
  {
   "cell_type": "code",
   "execution_count": 32,
   "metadata": {
    "colab": {
     "base_uri": "https://localhost:8080/"
    },
    "id": "dxQzNmOzkzXX",
    "outputId": "8ec85cb9-f032-47e4-e7f5-8bcc6b2bcd81"
   },
   "outputs": [
    {
     "name": "stdout",
     "output_type": "stream",
     "text": [
      "fatal: destination path 'PoliticalShapley' already exists and is not an empty directory.\n"
     ]
    }
   ],
   "source": [
    "!git clone https://github.com/GuysBarash/PoliticalShapley.git"
   ]
  },
  {
   "cell_type": "code",
   "execution_count": 33,
   "metadata": {
    "id": "8zOOSxKile2y"
   },
   "outputs": [],
   "source": [
    "from PoliticalShapley.PoliticalShapley import PoliticalShapley\r\n",
    "from IPython.display import display\r\n",
    "import pandas as pd\r\n",
    "import matplotlib.pyplot as plt\r\n",
    "#include if using a jupyter notebook, remove if using a .py file\n",
    "\r\n",
    "% matplotlib inline\n"
   ]
  },
  {
   "cell_type": "code",
   "execution_count": 34,
   "metadata": {
    "id": "S30k67BClUdi"
   },
   "outputs": [],
   "source": [
    "shap = PoliticalShapley()\r\n",
    "shap.add_parties(prty)\r\n",
    "shap.add_restrictions(disagree)\r\n",
    "shap.run()"
   ]
  },
  {
   "cell_type": "markdown",
   "metadata": {
    "id": "P1FEQudx3zY2"
   },
   "source": [
    "# possible coalitions"
   ]
  },
  {
   "cell_type": "code",
   "execution_count": 35,
   "metadata": {
    "colab": {
     "base_uri": "https://localhost:8080/",
     "height": 227.0
    },
    "id": "nq9b6TVTnJ1m",
    "outputId": "f213c5e2-b7a4-42db-81fa-6a523c2d10cf"
   },
   "outputs": [
    {
     "data": {
      "text/html": [
       "<div>\n",
       "<style scoped>\n",
       "    .dataframe tbody tr th:only-of-type {\n",
       "        vertical-align: middle;\n",
       "    }\n",
       "\n",
       "    .dataframe tbody tr th {\n",
       "        vertical-align: top;\n",
       "    }\n",
       "\n",
       "    .dataframe thead th {\n",
       "        text-align: right;\n",
       "    }\n",
       "</style>\n",
       "<table border=\"1\" class=\"dataframe\">\n",
       "  <thead>\n",
       "    <tr style=\"text-align: right;\">\n",
       "      <th></th>\n",
       "      <th>likud</th>\n",
       "      <th>new_hope</th>\n",
       "      <th>yamina</th>\n",
       "      <th>yesh_atid</th>\n",
       "      <th>meshutefet</th>\n",
       "      <th>shas</th>\n",
       "      <th>yahadut_ha_tora</th>\n",
       "      <th>israel_beitenu</th>\n",
       "      <th>tzionot_datit</th>\n",
       "      <th>avoda</th>\n",
       "      <th>kahol_lavan</th>\n",
       "      <th>Total</th>\n",
       "    </tr>\n",
       "  </thead>\n",
       "  <tbody>\n",
       "    <tr>\n",
       "      <th>0</th>\n",
       "      <td>0</td>\n",
       "      <td>14</td>\n",
       "      <td>13</td>\n",
       "      <td>0</td>\n",
       "      <td>0</td>\n",
       "      <td>8</td>\n",
       "      <td>7</td>\n",
       "      <td>6</td>\n",
       "      <td>5</td>\n",
       "      <td>7</td>\n",
       "      <td>4</td>\n",
       "      <td>64</td>\n",
       "    </tr>\n",
       "    <tr>\n",
       "      <th>1</th>\n",
       "      <td>0</td>\n",
       "      <td>14</td>\n",
       "      <td>13</td>\n",
       "      <td>18</td>\n",
       "      <td>0</td>\n",
       "      <td>0</td>\n",
       "      <td>0</td>\n",
       "      <td>0</td>\n",
       "      <td>5</td>\n",
       "      <td>7</td>\n",
       "      <td>4</td>\n",
       "      <td>61</td>\n",
       "    </tr>\n",
       "    <tr>\n",
       "      <th>2</th>\n",
       "      <td>0</td>\n",
       "      <td>14</td>\n",
       "      <td>13</td>\n",
       "      <td>18</td>\n",
       "      <td>0</td>\n",
       "      <td>0</td>\n",
       "      <td>0</td>\n",
       "      <td>6</td>\n",
       "      <td>0</td>\n",
       "      <td>7</td>\n",
       "      <td>4</td>\n",
       "      <td>62</td>\n",
       "    </tr>\n",
       "    <tr>\n",
       "      <th>3</th>\n",
       "      <td>0</td>\n",
       "      <td>14</td>\n",
       "      <td>13</td>\n",
       "      <td>18</td>\n",
       "      <td>0</td>\n",
       "      <td>0</td>\n",
       "      <td>0</td>\n",
       "      <td>6</td>\n",
       "      <td>5</td>\n",
       "      <td>7</td>\n",
       "      <td>0</td>\n",
       "      <td>63</td>\n",
       "    </tr>\n",
       "    <tr>\n",
       "      <th>4</th>\n",
       "      <td>0</td>\n",
       "      <td>14</td>\n",
       "      <td>13</td>\n",
       "      <td>18</td>\n",
       "      <td>0</td>\n",
       "      <td>0</td>\n",
       "      <td>0</td>\n",
       "      <td>6</td>\n",
       "      <td>5</td>\n",
       "      <td>7</td>\n",
       "      <td>4</td>\n",
       "      <td>67</td>\n",
       "    </tr>\n",
       "    <tr>\n",
       "      <th>5</th>\n",
       "      <td>29</td>\n",
       "      <td>0</td>\n",
       "      <td>13</td>\n",
       "      <td>0</td>\n",
       "      <td>0</td>\n",
       "      <td>8</td>\n",
       "      <td>7</td>\n",
       "      <td>0</td>\n",
       "      <td>5</td>\n",
       "      <td>0</td>\n",
       "      <td>0</td>\n",
       "      <td>62</td>\n",
       "    </tr>\n",
       "  </tbody>\n",
       "</table>\n",
       "</div>"
      ],
      "text/plain": [
       "   likud  new_hope  yamina  yesh_atid  ...  tzionot_datit  avoda  kahol_lavan  Total\n",
       "0      0        14      13          0  ...              5      7            4     64\n",
       "1      0        14      13         18  ...              5      7            4     61\n",
       "2      0        14      13         18  ...              0      7            4     62\n",
       "3      0        14      13         18  ...              5      7            0     63\n",
       "4      0        14      13         18  ...              5      7            4     67\n",
       "5     29         0      13          0  ...              5      0            0     62\n",
       "\n",
       "[6 rows x 12 columns]"
      ]
     },
     "metadata": {
      "tags": []
     },
     "output_type": "execute_result"
    }
   ],
   "source": [
    "df = shap.get_possible_govt()\r\n",
    "display(df)"
   ]
  },
  {
   "cell_type": "markdown",
   "metadata": {
    "id": "cLqvUh_l6ZNd"
   },
   "source": [
    "# Shapley power"
   ]
  },
  {
   "cell_type": "code",
   "execution_count": 42,
   "metadata": {
    "colab": {
     "base_uri": "https://localhost:8080/",
     "height": 615.0
    },
    "id": "GMMlleqh6PIl",
    "outputId": "857f0bf8-fdfb-420a-fbc7-660da04db28f"
   },
   "outputs": [
    {
     "data": {
      "text/html": [
       "<div>\n",
       "<style scoped>\n",
       "    .dataframe tbody tr th:only-of-type {\n",
       "        vertical-align: middle;\n",
       "    }\n",
       "\n",
       "    .dataframe tbody tr th {\n",
       "        vertical-align: top;\n",
       "    }\n",
       "\n",
       "    .dataframe thead th {\n",
       "        text-align: right;\n",
       "    }\n",
       "</style>\n",
       "<table border=\"1\" class=\"dataframe\">\n",
       "  <thead>\n",
       "    <tr style=\"text-align: right;\">\n",
       "      <th></th>\n",
       "      <th>Shapley</th>\n",
       "    </tr>\n",
       "  </thead>\n",
       "  <tbody>\n",
       "    <tr>\n",
       "      <th>yamina</th>\n",
       "      <td>0.164474</td>\n",
       "    </tr>\n",
       "    <tr>\n",
       "      <th>avoda</th>\n",
       "      <td>0.138158</td>\n",
       "    </tr>\n",
       "    <tr>\n",
       "      <th>new_hope</th>\n",
       "      <td>0.138158</td>\n",
       "    </tr>\n",
       "    <tr>\n",
       "      <th>tzionot_datit</th>\n",
       "      <td>0.116228</td>\n",
       "    </tr>\n",
       "    <tr>\n",
       "      <th>yesh_atid</th>\n",
       "      <td>0.092105</td>\n",
       "    </tr>\n",
       "    <tr>\n",
       "      <th>kahol_lavan</th>\n",
       "      <td>0.089912</td>\n",
       "    </tr>\n",
       "    <tr>\n",
       "      <th>israel_beitenu</th>\n",
       "      <td>0.089912</td>\n",
       "    </tr>\n",
       "    <tr>\n",
       "      <th>yahadut_ha_tora</th>\n",
       "      <td>0.072368</td>\n",
       "    </tr>\n",
       "    <tr>\n",
       "      <th>shas</th>\n",
       "      <td>0.072368</td>\n",
       "    </tr>\n",
       "    <tr>\n",
       "      <th>likud</th>\n",
       "      <td>0.026316</td>\n",
       "    </tr>\n",
       "    <tr>\n",
       "      <th>meshutefet</th>\n",
       "      <td>0.000000</td>\n",
       "    </tr>\n",
       "  </tbody>\n",
       "</table>\n",
       "</div>"
      ],
      "text/plain": [
       "                  Shapley\n",
       "yamina           0.164474\n",
       "avoda            0.138158\n",
       "new_hope         0.138158\n",
       "tzionot_datit    0.116228\n",
       "yesh_atid        0.092105\n",
       "kahol_lavan      0.089912\n",
       "israel_beitenu   0.089912\n",
       "yahadut_ha_tora  0.072368\n",
       "shas             0.072368\n",
       "likud            0.026316\n",
       "meshutefet       0.000000"
      ]
     },
     "metadata": {
      "tags": []
     },
     "output_type": "execute_result"
    },
    {
     "data": {
      "image/png": "[encoded data removed]",
      "text/plain": [
       "<Figure size 432x288 with 1 Axes>"
      ]
     },
     "metadata": {
      "tags": []
     },
     "output_type": "display_data"
    }
   ],
   "source": [
    "df = shap.get_shapley()\r\n",
    "df = df / df.sum()\r\n",
    "df.name = 'Shapley'\r\n",
    "display(df.to_frame())\r\n",
    "\r\n",
    "fig, ax = plt.subplots()\r\n",
    "ax.pie(df.values, labels=df.index, autopct='%1.1f%%')\r\n",
    "ax.axis('equal')  # Equal aspect ratio ensures the pie chart is circular.\n",
    "\r\n",
    "ax.set_title('')\r\n",
    "plt.show()\n"
   ]
  }
 ],
 "metadata": {
  "colab": {
   "name": "Israeli politics shapley.ipynb",
   "provenance": [],
   "authorship_tag": "ABX9TyMvaRbr6KcL6ZjgStiOuaOm",
   "include_colab_link": true
  },
  "kernelspec": {
   "name": "python3",
   "display_name": "Python 3"
  }
 },
 "nbformat": 4,
 "nbformat_minor": 0
}
