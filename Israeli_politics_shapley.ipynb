{
  "nbformat": 4,
  "nbformat_minor": 0,
  "metadata": {
    "colab": {
      "name": "Israeli politics shapley.ipynb",
      "provenance": [],
      "authorship_tag": "ABX9TyNsuDqwiMi9gs5sQF1M45nT",
      "include_colab_link": true
    },
    "kernelspec": {
      "name": "python3",
      "display_name": "Python 3"
    }
  },
  "cells": [
    {
      "cell_type": "markdown",
      "metadata": {
        "id": "view-in-github",
        "colab_type": "text"
      },
      "source": [
        "<a href=\"https://colab.research.google.com/github/GuysBarash/PoliticalShapley/blob/main/Israeli_politics_shapley.ipynb\" target=\"_parent\"><img src=\"https://colab.research.google.com/assets/colab-badge.svg\" alt=\"Open In Colab\"/></a>"
      ]
    },
    {
      "cell_type": "markdown",
      "metadata": {
        "id": "lCg_F9Oj6nLw"
      },
      "source": [
        "# Data"
      ]
    },
    {
      "cell_type": "markdown",
      "metadata": {
        "id": "33gaf5TB6p13"
      },
      "source": [
        "Mandats per party"
      ]
    },
    {
      "cell_type": "code",
      "metadata": {
        "id": "BEQVz6gDlOB4"
      },
      "source": [
        "prty = dict()\n",
        "prty['likud'] = 30\n",
        "prty['yesh_atid'] = 17\n",
        "prty['meshutefet'] = 6\n",
        "prty['yamina'] = 7\n",
        "prty['shas'] = 9\n",
        "prty['avoda'] = 7\n",
        "prty['tzionot_datit'] = 6\n",
        "prty['yahadut_ha_tora'] = 7\n",
        "prty['israel_beitenu'] =7\n",
        "prty['meretz'] = 5\n",
        "prty['kahol_lavan'] = 8\n",
        "prty['new_hope'] = 6\n",
        "prty['raam'] = 5"
      ],
      "execution_count": 15,
      "outputs": []
    },
    {
      "cell_type": "markdown",
      "metadata": {
        "id": "C0Hs5pHT6tKH"
      },
      "source": [
        "Who won't sit with who (order doesnt matter)"
      ]
    },
    {
      "cell_type": "code",
      "metadata": {
        "id": "Tm2qe-rH6tSY"
      },
      "source": [
        "disagree = dict()\n",
        "disagree['likud'] = ['kahol_lavan', 'israel_beitenu', 'yesh_atid', 'avoda','meretz']\n",
        "disagree['meshutefet'] = ['likud', 'tzionot_datit', 'yamina']\n",
        "disagree['yesh_atid'] = ['shas', 'yahadut_ha_tora']\n",
        "disagree['meretz'] = ['tzionot_datit', 'yamina']"
      ],
      "execution_count": 16,
      "outputs": []
    },
    {
      "cell_type": "code",
      "metadata": {
        "colab": {
          "base_uri": "https://localhost:8080/"
        },
        "id": "8_ltlkzZlRYl",
        "outputId": "71c6ece9-8c8c-44c2-cac5-35c18a21e8cd"
      },
      "source": [
        "print(f\"This election results has {sum(prty.values())} seats total\")"
      ],
      "execution_count": 17,
      "outputs": [
        {
          "output_type": "stream",
          "text": [
            "This election results has 120 seats total\n"
          ],
          "name": "stdout"
        }
      ]
    },
    {
      "cell_type": "markdown",
      "metadata": {
        "id": "UfmeMq8s6kOC"
      },
      "source": [
        "# Code"
      ]
    },
    {
      "cell_type": "code",
      "metadata": {
        "colab": {
          "base_uri": "https://localhost:8080/"
        },
        "id": "dxQzNmOzkzXX",
        "outputId": "8d66f276-9c59-4b7f-a822-25f9c807fa4e"
      },
      "source": [
        "!git clone https://github.com/GuysBarash/PoliticalShapley.git"
      ],
      "execution_count": 18,
      "outputs": [
        {
          "output_type": "stream",
          "text": [
            "fatal: destination path 'PoliticalShapley' already exists and is not an empty directory.\n"
          ],
          "name": "stdout"
        }
      ]
    },
    {
      "cell_type": "code",
      "metadata": {
        "id": "8zOOSxKile2y"
      },
      "source": [
        "from PoliticalShapley.PoliticalShapley import PoliticalShapley\n",
        "from IPython.display import display\n",
        "import pandas as pd\n",
        "import matplotlib.pyplot as plt\n",
        "#include if using a jupyter notebook, remove if using a .py file\n",
        "%matplotlib inline "
      ],
      "execution_count": 19,
      "outputs": []
    },
    {
      "cell_type": "code",
      "metadata": {
        "id": "S30k67BClUdi"
      },
      "source": [
        "shap = PoliticalShapley()\n",
        "shap.add_parties(prty)\n",
        "shap.add_restrictions(disagree)\n",
        "shap.run()"
      ],
      "execution_count": 20,
      "outputs": []
    },
    {
      "cell_type": "markdown",
      "metadata": {
        "id": "P1FEQudx3zY2"
      },
      "source": [
        "# possible coalitions"
      ]
    },
    {
      "cell_type": "code",
      "metadata": {
        "id": "G5JBLclMTmh5",
        "colab": {
          "base_uri": "https://localhost:8080/",
          "height": 500
        },
        "outputId": "c2c0451d-d441-4259-d0a2-3bf5acc96609"
      },
      "source": [
        "tuples = sorted(prty.items(), key=lambda kv: -kv[1])\n",
        "names = [t[0] for t in tuples]\n",
        "values = [t[1] for t in tuples]\n",
        "\n",
        "\n",
        "# Set the figure size\n",
        "fig = plt.figure(1, [20, 8])\n",
        "\n",
        "#tick_label does the some work as plt.xticks()\n",
        "barplot = plt.bar(range(len(prty)),values,tick_label=names)\n",
        "for bar in barplot:\n",
        "  yval = bar.get_height()\n",
        "  plt.text(bar.get_x() + bar.get_width() / 2.0, yval,int(yval),va='bottom')\n",
        "\n",
        "plt.title('Parties mandates')\n",
        "plt.show()"
      ],
      "execution_count": 21,
      "outputs": [
        {
          "output_type": "display_data",
          "data": {
            "image/png": "[encoded data removed]",
            "text/plain": [
              "<Figure size 1440x576 with 1 Axes>"
            ]
          },
          "metadata": {
            "tags": [],
            "needs_background": "light"
          }
        }
      ]
    },
    {
      "cell_type": "code",
      "metadata": {
        "id": "nq9b6TVTnJ1m",
        "outputId": "8905ca97-318d-4b29-f205-5f85a7862c86",
        "colab": {
          "base_uri": "https://localhost:8080/",
          "height": 347
        }
      },
      "source": [
        "df = shap.get_possible_govt()\n",
        "if df.shape[0] > 0:\n",
        "  display(df)\n",
        "else:\n",
        "  print(\"No possible coalition.\")"
      ],
      "execution_count": 22,
      "outputs": [
        {
          "output_type": "display_data",
          "data": {
            "text/html": [
              "<div>\n",
              "<style scoped>\n",
              "    .dataframe tbody tr th:only-of-type {\n",
              "        vertical-align: middle;\n",
              "    }\n",
              "\n",
              "    .dataframe tbody tr th {\n",
              "        vertical-align: top;\n",
              "    }\n",
              "\n",
              "    .dataframe thead th {\n",
              "        text-align: right;\n",
              "    }\n",
              "</style>\n",
              "<table border=\"1\" class=\"dataframe\">\n",
              "  <thead>\n",
              "    <tr style=\"text-align: right;\">\n",
              "      <th></th>\n",
              "      <th>likud</th>\n",
              "      <th>yesh_atid</th>\n",
              "      <th>meshutefet</th>\n",
              "      <th>yamina</th>\n",
              "      <th>shas</th>\n",
              "      <th>avoda</th>\n",
              "      <th>tzionot_datit</th>\n",
              "      <th>yahadut_ha_tora</th>\n",
              "      <th>israel_beitenu</th>\n",
              "      <th>meretz</th>\n",
              "      <th>kahol_lavan</th>\n",
              "      <th>new_hope</th>\n",
              "      <th>raam</th>\n",
              "      <th>Total</th>\n",
              "    </tr>\n",
              "  </thead>\n",
              "  <tbody>\n",
              "    <tr>\n",
              "      <th>0</th>\n",
              "      <td>0</td>\n",
              "      <td>0</td>\n",
              "      <td>0</td>\n",
              "      <td>7</td>\n",
              "      <td>9</td>\n",
              "      <td>7</td>\n",
              "      <td>6</td>\n",
              "      <td>7</td>\n",
              "      <td>7</td>\n",
              "      <td>0</td>\n",
              "      <td>8</td>\n",
              "      <td>6</td>\n",
              "      <td>5</td>\n",
              "      <td>62</td>\n",
              "    </tr>\n",
              "    <tr>\n",
              "      <th>1</th>\n",
              "      <td>0</td>\n",
              "      <td>17</td>\n",
              "      <td>0</td>\n",
              "      <td>7</td>\n",
              "      <td>0</td>\n",
              "      <td>7</td>\n",
              "      <td>6</td>\n",
              "      <td>0</td>\n",
              "      <td>7</td>\n",
              "      <td>0</td>\n",
              "      <td>8</td>\n",
              "      <td>6</td>\n",
              "      <td>5</td>\n",
              "      <td>63</td>\n",
              "    </tr>\n",
              "    <tr>\n",
              "      <th>2</th>\n",
              "      <td>0</td>\n",
              "      <td>17</td>\n",
              "      <td>6</td>\n",
              "      <td>0</td>\n",
              "      <td>0</td>\n",
              "      <td>7</td>\n",
              "      <td>0</td>\n",
              "      <td>0</td>\n",
              "      <td>7</td>\n",
              "      <td>5</td>\n",
              "      <td>8</td>\n",
              "      <td>6</td>\n",
              "      <td>5</td>\n",
              "      <td>61</td>\n",
              "    </tr>\n",
              "    <tr>\n",
              "      <th>3</th>\n",
              "      <td>30</td>\n",
              "      <td>0</td>\n",
              "      <td>0</td>\n",
              "      <td>0</td>\n",
              "      <td>9</td>\n",
              "      <td>0</td>\n",
              "      <td>6</td>\n",
              "      <td>7</td>\n",
              "      <td>0</td>\n",
              "      <td>0</td>\n",
              "      <td>0</td>\n",
              "      <td>6</td>\n",
              "      <td>5</td>\n",
              "      <td>63</td>\n",
              "    </tr>\n",
              "    <tr>\n",
              "      <th>4</th>\n",
              "      <td>30</td>\n",
              "      <td>0</td>\n",
              "      <td>0</td>\n",
              "      <td>7</td>\n",
              "      <td>0</td>\n",
              "      <td>0</td>\n",
              "      <td>6</td>\n",
              "      <td>7</td>\n",
              "      <td>0</td>\n",
              "      <td>0</td>\n",
              "      <td>0</td>\n",
              "      <td>6</td>\n",
              "      <td>5</td>\n",
              "      <td>61</td>\n",
              "    </tr>\n",
              "    <tr>\n",
              "      <th>5</th>\n",
              "      <td>30</td>\n",
              "      <td>0</td>\n",
              "      <td>0</td>\n",
              "      <td>7</td>\n",
              "      <td>9</td>\n",
              "      <td>0</td>\n",
              "      <td>0</td>\n",
              "      <td>7</td>\n",
              "      <td>0</td>\n",
              "      <td>0</td>\n",
              "      <td>0</td>\n",
              "      <td>6</td>\n",
              "      <td>5</td>\n",
              "      <td>64</td>\n",
              "    </tr>\n",
              "    <tr>\n",
              "      <th>6</th>\n",
              "      <td>30</td>\n",
              "      <td>0</td>\n",
              "      <td>0</td>\n",
              "      <td>7</td>\n",
              "      <td>9</td>\n",
              "      <td>0</td>\n",
              "      <td>6</td>\n",
              "      <td>0</td>\n",
              "      <td>0</td>\n",
              "      <td>0</td>\n",
              "      <td>0</td>\n",
              "      <td>6</td>\n",
              "      <td>5</td>\n",
              "      <td>63</td>\n",
              "    </tr>\n",
              "    <tr>\n",
              "      <th>7</th>\n",
              "      <td>30</td>\n",
              "      <td>0</td>\n",
              "      <td>0</td>\n",
              "      <td>7</td>\n",
              "      <td>9</td>\n",
              "      <td>0</td>\n",
              "      <td>6</td>\n",
              "      <td>7</td>\n",
              "      <td>0</td>\n",
              "      <td>0</td>\n",
              "      <td>0</td>\n",
              "      <td>0</td>\n",
              "      <td>5</td>\n",
              "      <td>64</td>\n",
              "    </tr>\n",
              "    <tr>\n",
              "      <th>8</th>\n",
              "      <td>30</td>\n",
              "      <td>0</td>\n",
              "      <td>0</td>\n",
              "      <td>7</td>\n",
              "      <td>9</td>\n",
              "      <td>0</td>\n",
              "      <td>6</td>\n",
              "      <td>7</td>\n",
              "      <td>0</td>\n",
              "      <td>0</td>\n",
              "      <td>0</td>\n",
              "      <td>6</td>\n",
              "      <td>0</td>\n",
              "      <td>65</td>\n",
              "    </tr>\n",
              "    <tr>\n",
              "      <th>9</th>\n",
              "      <td>30</td>\n",
              "      <td>0</td>\n",
              "      <td>0</td>\n",
              "      <td>7</td>\n",
              "      <td>9</td>\n",
              "      <td>0</td>\n",
              "      <td>6</td>\n",
              "      <td>7</td>\n",
              "      <td>0</td>\n",
              "      <td>0</td>\n",
              "      <td>0</td>\n",
              "      <td>6</td>\n",
              "      <td>5</td>\n",
              "      <td>70</td>\n",
              "    </tr>\n",
              "  </tbody>\n",
              "</table>\n",
              "</div>"
            ],
            "text/plain": [
              "   likud  yesh_atid  meshutefet  yamina  ...  kahol_lavan  new_hope  raam  Total\n",
              "0      0          0           0       7  ...            8         6     5     62\n",
              "1      0         17           0       7  ...            8         6     5     63\n",
              "2      0         17           6       0  ...            8         6     5     61\n",
              "3     30          0           0       0  ...            0         6     5     63\n",
              "4     30          0           0       7  ...            0         6     5     61\n",
              "5     30          0           0       7  ...            0         6     5     64\n",
              "6     30          0           0       7  ...            0         6     5     63\n",
              "7     30          0           0       7  ...            0         0     5     64\n",
              "8     30          0           0       7  ...            0         6     0     65\n",
              "9     30          0           0       7  ...            0         6     5     70\n",
              "\n",
              "[10 rows x 14 columns]"
            ]
          },
          "metadata": {
            "tags": []
          }
        }
      ]
    },
    {
      "cell_type": "markdown",
      "metadata": {
        "id": "cLqvUh_l6ZNd"
      },
      "source": [
        "# Shapley power"
      ]
    },
    {
      "cell_type": "code",
      "metadata": {
        "id": "GMMlleqh6PIl",
        "outputId": "96eea87a-8f89-46d3-c01e-1fde9851a03f",
        "colab": {
          "base_uri": "https://localhost:8080/",
          "height": 673
        }
      },
      "source": [
        "df = shap.get_shapley()\n",
        "df = (df/df.sum()).fillna(0)\n",
        "df.name='Shapley'\n",
        "display(df.to_frame())\n",
        "\n",
        "fig, ax = plt.subplots()\n",
        "ax.pie(df.values, labels=df.index, autopct='%1.1f%%')\n",
        "ax.axis('equal')  # Equal aspect ratio ensures the pie chart is circular.\n",
        "ax.set_title('')\n",
        "plt.show()"
      ],
      "execution_count": 23,
      "outputs": [
        {
          "output_type": "display_data",
          "data": {
            "text/html": [
              "<div>\n",
              "<style scoped>\n",
              "    .dataframe tbody tr th:only-of-type {\n",
              "        vertical-align: middle;\n",
              "    }\n",
              "\n",
              "    .dataframe tbody tr th {\n",
              "        vertical-align: top;\n",
              "    }\n",
              "\n",
              "    .dataframe thead th {\n",
              "        text-align: right;\n",
              "    }\n",
              "</style>\n",
              "<table border=\"1\" class=\"dataframe\">\n",
              "  <thead>\n",
              "    <tr style=\"text-align: right;\">\n",
              "      <th></th>\n",
              "      <th>Shapley</th>\n",
              "    </tr>\n",
              "  </thead>\n",
              "  <tbody>\n",
              "    <tr>\n",
              "      <th>raam</th>\n",
              "      <td>0.127867</td>\n",
              "    </tr>\n",
              "    <tr>\n",
              "      <th>new_hope</th>\n",
              "      <td>0.127867</td>\n",
              "    </tr>\n",
              "    <tr>\n",
              "      <th>tzionot_datit</th>\n",
              "      <td>0.112999</td>\n",
              "    </tr>\n",
              "    <tr>\n",
              "      <th>yamina</th>\n",
              "      <td>0.112999</td>\n",
              "    </tr>\n",
              "    <tr>\n",
              "      <th>likud</th>\n",
              "      <td>0.101954</td>\n",
              "    </tr>\n",
              "    <tr>\n",
              "      <th>yahadut_ha_tora</th>\n",
              "      <td>0.098131</td>\n",
              "    </tr>\n",
              "    <tr>\n",
              "      <th>shas</th>\n",
              "      <td>0.098131</td>\n",
              "    </tr>\n",
              "    <tr>\n",
              "      <th>kahol_lavan</th>\n",
              "      <td>0.053526</td>\n",
              "    </tr>\n",
              "    <tr>\n",
              "      <th>israel_beitenu</th>\n",
              "      <td>0.053526</td>\n",
              "    </tr>\n",
              "    <tr>\n",
              "      <th>avoda</th>\n",
              "      <td>0.053526</td>\n",
              "    </tr>\n",
              "    <tr>\n",
              "      <th>yesh_atid</th>\n",
              "      <td>0.029737</td>\n",
              "    </tr>\n",
              "    <tr>\n",
              "      <th>meretz</th>\n",
              "      <td>0.014868</td>\n",
              "    </tr>\n",
              "    <tr>\n",
              "      <th>meshutefet</th>\n",
              "      <td>0.014868</td>\n",
              "    </tr>\n",
              "  </tbody>\n",
              "</table>\n",
              "</div>"
            ],
            "text/plain": [
              "                  Shapley\n",
              "raam             0.127867\n",
              "new_hope         0.127867\n",
              "tzionot_datit    0.112999\n",
              "yamina           0.112999\n",
              "likud            0.101954\n",
              "yahadut_ha_tora  0.098131\n",
              "shas             0.098131\n",
              "kahol_lavan      0.053526\n",
              "israel_beitenu   0.053526\n",
              "avoda            0.053526\n",
              "yesh_atid        0.029737\n",
              "meretz           0.014868\n",
              "meshutefet       0.014868"
            ]
          },
          "metadata": {
            "tags": []
          }
        },
        {
          "output_type": "display_data",
          "data": {
            "image/png": "[encoded data removed]",
            "text/plain": [
              "<Figure size 432x288 with 1 Axes>"
            ]
          },
          "metadata": {
            "tags": []
          }
        }
      ]
    }
  ]
}