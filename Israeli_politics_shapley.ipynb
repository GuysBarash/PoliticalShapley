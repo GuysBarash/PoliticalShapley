{
  "nbformat": 4,
  "nbformat_minor": 0,
  "metadata": {
    "colab": {
      "name": "Israeli politics shapley.ipynb",
      "provenance": [],
      "authorship_tag": "ABX9TyNsuDqwiMi9gs5sQF1M45nT",
      "include_colab_link": true
    },
    "kernelspec": {
      "name": "python3",
      "display_name": "Python 3"
    }
  },
  "cells": [
    {
      "cell_type": "markdown",
      "metadata": {
        "id": "view-in-github",
        "colab_type": "text"
      },
      "source": [
        "<a href=\"https://colab.research.google.com/github/GuysBarash/PoliticalShapley/blob/main/Israeli_politics_shapley.ipynb\" target=\"_parent\"><img src=\"https://colab.research.google.com/assets/colab-badge.svg\" alt=\"Open In Colab\"/></a>"
      ]
    },
    {
      "cell_type": "markdown",
      "metadata": {
        "id": "lCg_F9Oj6nLw"
      },
      "source": [
        "# Data"
      ]
    },
    {
      "cell_type": "markdown",
      "metadata": {
        "id": "33gaf5TB6p13"
      },
      "source": [
        "Mandats per party"
      ]
    },
    {
      "cell_type": "code",
      "metadata": {
        "id": "BEQVz6gDlOB4"
      },
      "source": [
        "prty = dict()\n",
        "prty['likud'] = 30\n",
        "prty['yesh_atid'] = 17\n",
        "prty['meshutefet'] = 6\n",
        "prty['yamina'] = 7\n",
        "prty['shas'] = 9\n",
        "prty['avoda'] = 7\n",
        "prty['tzionot_datit'] = 6\n",
        "prty['yahadut_ha_tora'] = 7\n",
        "prty['israel_beitenu'] =7\n",
        "prty['meretz'] = 5\n",
        "prty['kahol_lavan'] = 8\n",
        "prty['new_hope'] = 6\n",
        "prty['raam'] = 5"
      ],
      "execution_count": 1,
      "outputs": []
    },
    {
      "cell_type": "markdown",
      "metadata": {
        "id": "C0Hs5pHT6tKH"
      },
      "source": [
        "Who won't sit with who (order doesnt matter)"
      ]
    },
    {
      "cell_type": "code",
      "metadata": {
        "id": "Tm2qe-rH6tSY"
      },
      "source": [
        "disagree = dict()\n",
        "disagree['likud'] = ['kahol_lavan', 'israel_beitenu', 'yesh_atid', 'avoda','meretz']\n",
        "disagree['meshutefet'] = ['likud', 'tzionot_datit', 'yamina']\n",
        "disagree['yesh_atid'] = ['shas', 'yahadut_ha_tora']\n",
        "disagree['meretz'] = ['tzionot_datit', 'yamina']"
      ],
      "execution_count": 2,
      "outputs": []
    },
    {
      "cell_type": "code",
      "metadata": {
        "colab": {
          "base_uri": "https://localhost:8080/"
        },
        "id": "8_ltlkzZlRYl",
        "outputId": "0b3fb0c2-8edc-4afb-b462-736c2d3f7190"
      },
      "source": [
        "print(f\"This election results has {sum(prty.values())} seats total\")"
      ],
      "execution_count": 3,
      "outputs": [
        {
          "output_type": "stream",
          "text": [
            "This election results has 120 seats total\n"
          ],
          "name": "stdout"
        }
      ]
    },
    {
      "cell_type": "markdown",
      "metadata": {
        "id": "UfmeMq8s6kOC"
      },
      "source": [
        "# Code"
      ]
    },
    {
      "cell_type": "code",
      "metadata": {
        "colab": {
          "base_uri": "https://localhost:8080/"
        },
        "id": "dxQzNmOzkzXX",
        "outputId": "7dc3bef3-1865-476e-91bf-abe9c73aabaf"
      },
      "source": [
        "!git clone https://github.com/GuysBarash/PoliticalShapley.git"
      ],
      "execution_count": 4,
      "outputs": [
        {
          "output_type": "stream",
          "text": [
            "fatal: destination path 'PoliticalShapley' already exists and is not an empty directory.\n"
          ],
          "name": "stdout"
        }
      ]
    },
    {
      "cell_type": "code",
      "metadata": {
        "id": "8zOOSxKile2y"
      },
      "source": [
        "from PoliticalShapley.PoliticalShapley import PoliticalShapley\n",
        "from IPython.display import display\n",
        "import pandas as pd\n",
        "import matplotlib.pyplot as plt\n",
        "#include if using a jupyter notebook, remove if using a .py file\n",
        "%matplotlib inline "
      ],
      "execution_count": 5,
      "outputs": []
    },
    {
      "cell_type": "code",
      "metadata": {
        "id": "S30k67BClUdi"
      },
      "source": [
        "shap = PoliticalShapley()\n",
        "shap.add_parties(prty)\n",
        "shap.add_restrictions(disagree)\n",
        "shap.run()"
      ],
      "execution_count": 6,
      "outputs": []
    },
    {
      "cell_type": "markdown",
      "metadata": {
        "id": "P1FEQudx3zY2"
      },
      "source": [
        "# possible coalitions"
      ]
    },
    {
      "cell_type": "code",
      "metadata": {
        "id": "G5JBLclMTmh5",
        "outputId": "83e8ccf0-4581-4dbd-e6c7-c33044c4317e",
        "colab": {
          "base_uri": "https://localhost:8080/",
          "height": 500
        }
      },
      "source": [
        "tuples = sorted(prty.items(), key=lambda kv: -kv[1])\n",
        "names = [t[0] for t in tuples]\n",
        "values = [t[1] for t in tuples]\n",
        "\n",
        "\n",
        "# Set the figure size\n",
        "fig = plt.figure(1, [20, 8])\n",
        "\n",
        "#tick_label does the some work as plt.xticks()\n",
        "barplot = plt.bar(range(len(prty)),values,tick_label=names)\n",
        "for bar in barplot:\n",
        "  yval = bar.get_height()\n",
        "  plt.text(bar.get_x() + bar.get_width() / 2.0, yval,int(yval),va='bottom')\n",
        "\n",
        "plt.title('Parties mandates')\n",
        "plt.show()"
      ],
      "execution_count": 14,
      "outputs": [
        {
          "output_type": "display_data",
          "data": {
            "image/png": "[encoded data removed]",
            "text/plain": [
              "<Figure size 1440x576 with 1 Axes>"
            ]
          },
          "metadata": {
            "tags": [],
            "needs_background": "light"
          }
        }
      ]
    },
    {
      "cell_type": "code",
      "metadata": {
        "id": "nq9b6TVTnJ1m"
      },
      "source": [
        "df = shap.get_possible_govt()\n",
        "if df.shape[0] > 0:\n",
        "  display(df)\n",
        "else:\n",
        "  print(\"No possible coalition.\")"
      ],
      "execution_count": null,
      "outputs": []
    },
    {
      "cell_type": "markdown",
      "metadata": {
        "id": "cLqvUh_l6ZNd"
      },
      "source": [
        "# Shapley power"
      ]
    },
    {
      "cell_type": "code",
      "metadata": {
        "id": "GMMlleqh6PIl"
      },
      "source": [
        "df = shap.get_shapley()\n",
        "df = (df/df.sum()).fillna(0)\n",
        "df.name='Shapley'\n",
        "display(df.to_frame())\n",
        "\n",
        "fig, ax = plt.subplots()\n",
        "ax.pie(df.values, labels=df.index, autopct='%1.1f%%')\n",
        "ax.axis('equal')  # Equal aspect ratio ensures the pie chart is circular.\n",
        "ax.set_title('')\n",
        "plt.show()"
      ],
      "execution_count": null,
      "outputs": []
    }
  ]
}