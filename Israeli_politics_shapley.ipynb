{
  "nbformat": 4,
  "nbformat_minor": 0,
  "metadata": {
    "colab": {
      "name": "Israeli politics shapley.ipynb",
      "provenance": [],
      "authorship_tag": "ABX9TyN/kRezJ4oXog0Jm13biooX",
      "include_colab_link": true
    },
    "kernelspec": {
      "name": "python3",
      "display_name": "Python 3"
    }
  },
  "cells": [
    {
      "cell_type": "markdown",
      "metadata": {
        "id": "view-in-github",
        "colab_type": "text"
      },
      "source": [
        "<a href=\"https://colab.research.google.com/github/GuysBarash/PoliticalShapley/blob/main/Israeli_politics_shapley.ipynb\" target=\"_parent\"><img src=\"https://colab.research.google.com/assets/colab-badge.svg\" alt=\"Open In Colab\"/></a>"
      ]
    },
    {
      "cell_type": "markdown",
      "metadata": {
        "id": "lCg_F9Oj6nLw"
      },
      "source": [
        "# Data"
      ]
    },
    {
      "cell_type": "markdown",
      "metadata": {
        "id": "33gaf5TB6p13"
      },
      "source": [
        "Mandats per party"
      ]
    },
    {
      "cell_type": "code",
      "metadata": {
        "id": "BEQVz6gDlOB4"
      },
      "source": [
        "prty = dict()\r\n",
        "prty['likud'] = 29\r\n",
        "prty['new_hope'] = 14\r\n",
        "prty['yamina'] = 13\r\n",
        "prty['yesh_atid'] = 18\r\n",
        "prty['meshutefet'] = 9\r\n",
        "prty['shas'] = 8\r\n",
        "prty['yahadut_ha_tora'] = 7\r\n",
        "prty['israel_beitenu'] = 6\r\n",
        "prty['tzionot_datit'] = 5\r\n",
        "# prty['meretz'] = 0\r\n",
        "prty['avoda'] = 7\r\n",
        "prty['kahol_lavan'] = 4"
      ],
      "execution_count": 10,
      "outputs": []
    },
    {
      "cell_type": "markdown",
      "metadata": {
        "id": "C0Hs5pHT6tKH"
      },
      "source": [
        "Who won't sit with who (order doesnt matter)"
      ]
    },
    {
      "cell_type": "code",
      "metadata": {
        "id": "Tm2qe-rH6tSY"
      },
      "source": [
        "disagree = dict()\r\n",
        "disagree['likud'] = ['new_hope', 'kahol_lavan', 'israel_beitenu', 'yesh_atid', 'avoda']\r\n",
        "disagree['meshutefet'] = ['likud', 'tzionot_datit', 'yamina']\r\n",
        "disagree['yesh_atid'] = ['shas', 'yahadut_ha_tora']\r\n",
        "disagree['yamina'] = ['likud', 'new_hope']"
      ],
      "execution_count": 11,
      "outputs": []
    },
    {
      "cell_type": "markdown",
      "metadata": {
        "id": "UfmeMq8s6kOC"
      },
      "source": [
        "# Code"
      ]
    },
    {
      "cell_type": "code",
      "metadata": {
        "colab": {
          "base_uri": "https://localhost:8080/"
        },
        "id": "dxQzNmOzkzXX",
        "outputId": "e7858915-739d-468c-f337-c4fe4c20d8b8"
      },
      "source": [
        "!git clone https://github.com/GuysBarash/PoliticalShapley.git"
      ],
      "execution_count": 12,
      "outputs": [
        {
          "output_type": "stream",
          "text": [
            "fatal: destination path 'PoliticalShapley' already exists and is not an empty directory.\n"
          ],
          "name": "stdout"
        }
      ]
    },
    {
      "cell_type": "code",
      "metadata": {
        "id": "8zOOSxKile2y"
      },
      "source": [
        "from PoliticalShapley.PoliticalShapley import PoliticalShapley\r\n",
        "from IPython.display import display\r\n",
        "import pandas as pd\r\n",
        "import matplotlib.pyplot as plt\r\n",
        "#include if using a jupyter notebook, remove if using a .py file\r\n",
        "%matplotlib inline "
      ],
      "execution_count": 13,
      "outputs": []
    },
    {
      "cell_type": "code",
      "metadata": {
        "id": "S30k67BClUdi"
      },
      "source": [
        "shap = PoliticalShapley()\r\n",
        "shap.add_parties(prty)\r\n",
        "shap.add_restrictions(disagree)\r\n",
        "shap.run()"
      ],
      "execution_count": 14,
      "outputs": []
    },
    {
      "cell_type": "markdown",
      "metadata": {
        "id": "P1FEQudx3zY2"
      },
      "source": [
        "# possible coalitions"
      ]
    },
    {
      "cell_type": "code",
      "metadata": {
        "colab": {
          "base_uri": "https://localhost:8080/"
        },
        "id": "nq9b6TVTnJ1m",
        "outputId": "2a4beb32-c203-4330-9587-bd27d6f80d3a"
      },
      "source": [
        "df = shap.get_possible_govt()\r\n",
        "if df.shape[0] > 0:\r\n",
        "  display(df)\r\n",
        "else:\r\n",
        "  print(\"No possible coalition.\")"
      ],
      "execution_count": 15,
      "outputs": [
        {
          "output_type": "stream",
          "text": [
            "No possible coalition.\n"
          ],
          "name": "stdout"
        }
      ]
    },
    {
      "cell_type": "markdown",
      "metadata": {
        "id": "cLqvUh_l6ZNd"
      },
      "source": [
        "# Shapley power"
      ]
    },
    {
      "cell_type": "code",
      "metadata": {
        "colab": {
          "base_uri": "https://localhost:8080/",
          "height": 608
        },
        "id": "GMMlleqh6PIl",
        "outputId": "949a6635-8ef8-4fa5-b34b-07e8db25bbf9"
      },
      "source": [
        "df = shap.get_shapley()\r\n",
        "df = (df/df.sum()).fillna(0)\r\n",
        "df.name='Shapley'\r\n",
        "display(df.to_frame())\r\n",
        "\r\n",
        "fig, ax = plt.subplots()\r\n",
        "ax.pie(df.values, labels=df.index, autopct='%1.1f%%')\r\n",
        "ax.axis('equal')  # Equal aspect ratio ensures the pie chart is circular.\r\n",
        "ax.set_title('')\r\n",
        "plt.show()"
      ],
      "execution_count": 16,
      "outputs": [
        {
          "output_type": "display_data",
          "data": {
            "text/html": [
              "<div>\n",
              "<style scoped>\n",
              "    .dataframe tbody tr th:only-of-type {\n",
              "        vertical-align: middle;\n",
              "    }\n",
              "\n",
              "    .dataframe tbody tr th {\n",
              "        vertical-align: top;\n",
              "    }\n",
              "\n",
              "    .dataframe thead th {\n",
              "        text-align: right;\n",
              "    }\n",
              "</style>\n",
              "<table border=\"1\" class=\"dataframe\">\n",
              "  <thead>\n",
              "    <tr style=\"text-align: right;\">\n",
              "      <th></th>\n",
              "      <th>Shapley</th>\n",
              "    </tr>\n",
              "  </thead>\n",
              "  <tbody>\n",
              "    <tr>\n",
              "      <th>kahol_lavan</th>\n",
              "      <td>0.0</td>\n",
              "    </tr>\n",
              "    <tr>\n",
              "      <th>avoda</th>\n",
              "      <td>0.0</td>\n",
              "    </tr>\n",
              "    <tr>\n",
              "      <th>tzionot_datit</th>\n",
              "      <td>0.0</td>\n",
              "    </tr>\n",
              "    <tr>\n",
              "      <th>israel_beitenu</th>\n",
              "      <td>0.0</td>\n",
              "    </tr>\n",
              "    <tr>\n",
              "      <th>yahadut_ha_tora</th>\n",
              "      <td>0.0</td>\n",
              "    </tr>\n",
              "    <tr>\n",
              "      <th>shas</th>\n",
              "      <td>0.0</td>\n",
              "    </tr>\n",
              "    <tr>\n",
              "      <th>meshutefet</th>\n",
              "      <td>0.0</td>\n",
              "    </tr>\n",
              "    <tr>\n",
              "      <th>yesh_atid</th>\n",
              "      <td>0.0</td>\n",
              "    </tr>\n",
              "    <tr>\n",
              "      <th>yamina</th>\n",
              "      <td>0.0</td>\n",
              "    </tr>\n",
              "    <tr>\n",
              "      <th>new_hope</th>\n",
              "      <td>0.0</td>\n",
              "    </tr>\n",
              "    <tr>\n",
              "      <th>likud</th>\n",
              "      <td>0.0</td>\n",
              "    </tr>\n",
              "  </tbody>\n",
              "</table>\n",
              "</div>"
            ],
            "text/plain": [
              "                 Shapley\n",
              "kahol_lavan          0.0\n",
              "avoda                0.0\n",
              "tzionot_datit        0.0\n",
              "israel_beitenu       0.0\n",
              "yahadut_ha_tora      0.0\n",
              "shas                 0.0\n",
              "meshutefet           0.0\n",
              "yesh_atid            0.0\n",
              "yamina               0.0\n",
              "new_hope             0.0\n",
              "likud                0.0"
            ]
          },
          "metadata": {
            "tags": []
          }
        },
        {
          "output_type": "display_data",
          "data": {
            "image/png": "[encoded data removed]",
            "text/plain": [
              "<Figure size 432x288 with 1 Axes>"
            ]
          },
          "metadata": {
            "tags": []
          }
        }
      ]
    }
  ]
}